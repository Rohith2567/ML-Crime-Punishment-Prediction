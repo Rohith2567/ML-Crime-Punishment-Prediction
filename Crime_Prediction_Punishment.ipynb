{
 "cells": [
  {
   "cell_type": "code",
   "execution_count": 1,
   "id": "fa51276e-945e-478a-87ea-22f270d4601e",
   "metadata": {},
   "outputs": [],
   "source": [
    "from langchain_community.document_loaders import PyPDFLoader\n",
    "\n",
    "loader = PyPDFLoader(\"train-00000-of-00001.pdf\")\n",
    "data = loader.load() # entire PDF is loaded as a single Document\n",
    "# data"
   ]
  },
  {
   "cell_type": "code",
   "execution_count": 2,
   "id": "b5b0f5a7-9d8f-4611-8b0d-5e045b73452e",
   "metadata": {},
   "outputs": [
    {
     "data": {
      "text/plain": [
       "145"
      ]
     },
     "execution_count": 2,
     "metadata": {},
     "output_type": "execute_result"
    }
   ],
   "source": [
    "len(data)"
   ]
  },
  {
   "cell_type": "code",
   "execution_count": 3,
   "id": "bcd40af4-6fad-4b69-bc02-c266909ac7ce",
   "metadata": {},
   "outputs": [
    {
     "name": "stdout",
     "output_type": "stream",
     "text": [
      "Total number of documents:  570\n"
     ]
    }
   ],
   "source": [
    "from langchain.text_splitter import RecursiveCharacterTextSplitter\n",
    "\n",
    "#split data\n",
    "text_splitter = RecursiveCharacterTextSplitter(chunk_size=1000)\n",
    "docs = text_splitter.split_documents(data)\n",
    "\n",
    "print(\"Total number of documents: \",len(docs))"
   ]
  },
  {
   "cell_type": "code",
   "execution_count": 4,
   "id": "1c2312ee-7789-4efd-987f-f793fe9bc956",
   "metadata": {},
   "outputs": [
    {
     "data": {
      "text/plain": [
       "Document(metadata={'source': 'train-00000-of-00001.pdf', 'page': 0}, page_content='war, intentionally allows the prisoner to escape from \\nconfinement, they can be punished with life imprisonment or \\nimprisonment of up to ten years, and may also be fined.\\nPublic servant \\nvoluntarily \\nallowing prisoner \\nof State or war in \\nhis custody to \\nescape\\nImprisonment \\nfor Life or 10 \\nYears + Fine\\nIPC_128\\nDescription of IPC Section 129 According to section 129 of \\nIndian penal code, Whoever, being a public servant and having \\nthe custody of any State prisoner or prisoner of war, \\nnegligently suffers such prisoner to escape from any place of \\nconfinement in which such prisoner is confined, shall be \\npunished with simple imprisonment for a term which may \\nextend to three years, and shall also be liable to fine. IPC 129 \\nin Simple Words If a public servant, responsible for the \\ncustody of a State prisoner or prisoner of war, carelessly allows \\nthe prisoner to escape from confinement, they can be punished \\nwith up to three years in jail and may also be fined.\\nPublic servant')"
      ]
     },
     "execution_count": 4,
     "metadata": {},
     "output_type": "execute_result"
    }
   ],
   "source": [
    "docs[3]"
   ]
  },
  {
   "cell_type": "code",
   "execution_count": 5,
   "id": "8b1e2d05-271b-485f-bb4f-de35143ea862",
   "metadata": {},
   "outputs": [
    {
     "data": {
      "text/plain": [
       "[0.05168594419956207,\n",
       " -0.030764883384108543,\n",
       " -0.03062233328819275,\n",
       " -0.02802734263241291,\n",
       " 0.01813093200325966]"
      ]
     },
     "execution_count": 5,
     "metadata": {},
     "output_type": "execute_result"
    }
   ],
   "source": [
    "from langchain_chroma import Chroma\n",
    "from langchain_google_genai import GoogleGenerativeAIEmbeddings\n",
    "from ipywidgets import IntProgress\n",
    "\n",
    "from dotenv import load_dotenv\n",
    "load_dotenv()\n",
    "\n",
    "IntProgress(value=50, min=0, max=100)\n",
    "\n",
    "embeddings = GoogleGenerativeAIEmbeddings(model=\"models/embedding-001\")\n",
    "vector = embeddings.embed_query(\"hello, world!\")\n",
    "vector[:5]\n",
    "#vector"
   ]
  },
  {
   "cell_type": "code",
   "execution_count": 6,
   "id": "e9dc269a-7c62-4fd9-b87f-be5272ae9d5c",
   "metadata": {},
   "outputs": [],
   "source": [
    "vectorstore = Chroma.from_documents(documents=docs, embedding=GoogleGenerativeAIEmbeddings(model=\"models/embedding-001\"))"
   ]
  },
  {
   "cell_type": "code",
   "execution_count": 7,
   "id": "a98e88b5-e727-4209-8fd2-3484ad560db3",
   "metadata": {},
   "outputs": [],
   "source": [
    "retriever = vectorstore.as_retriever(search_type=\"similarity\", search_kwargs={\"k\":10})\n",
    "\n",
    "retrieved_docs = retriever.invoke(\"Imagine two people arguing on a busy street, and suddenly one person throws a punch, causing a public disturbance. What would this kind of altercation be classified as, and what penalties could they face?\")"
   ]
  },
  {
   "cell_type": "code",
   "execution_count": 9,
   "id": "59bdf037-5b05-46e6-be92-14fe78115f82",
   "metadata": {},
   "outputs": [
    {
     "data": {
      "text/plain": [
       "10"
      ]
     },
     "execution_count": 9,
     "metadata": {},
     "output_type": "execute_result"
    }
   ],
   "source": [
    "len(retrieved_docs)"
   ]
  },
  {
   "cell_type": "code",
   "execution_count": 10,
   "id": "a4c44a58-8271-45b4-9bcc-5c2aea190908",
   "metadata": {},
   "outputs": [
    {
     "name": "stdout",
     "output_type": "stream",
     "text": [
      "Page 9  of 145\n",
      "Description Offense Punishment Section\n",
      "Description of IPC Section 153AA According to section \n",
      "153AA of Indian penal code, Whoever by words, either spoken \n",
      "or written, or by signs or by visible representations or \n",
      "otherwise, promotes or attempts to promote, on grounds of \n",
      "religion, race, place of birth, residence, language, caste or \n",
      "community or any other ground whatsoever, disharmony or \n",
      "feelings of enmity, hatred or ill-will between different \n",
      "religious, racials, language or regional groups or castes or \n",
      "communities, or commits any act which is prejudicial to the \n",
      "maintenance of harmony between different religious, racial, \n",
      "language or regional groups or castes or communities, and \n",
      "which disturbs or is likely to disturb the public tranquility, or \n",
      "organizes any exercise, movement, drill or other similar \n",
      "activity intending that the participants in such activity shall use \n",
      "or be trained to use criminal force or violence or knowing it to\n"
     ]
    }
   ],
   "source": [
    "print(retrieved_docs[5].page_content)"
   ]
  },
  {
   "cell_type": "code",
   "execution_count": 11,
   "id": "66df267b-abaf-4411-8c19-13cd7b490be2",
   "metadata": {},
   "outputs": [],
   "source": [
    "from langchain_google_genai import ChatGoogleGenerativeAI\n",
    "\n",
    "llm = ChatGoogleGenerativeAI(model=\"gemini-1.5-pro\",temperature=0.3, max_tokens=500)"
   ]
  },
  {
   "cell_type": "code",
   "execution_count": 12,
   "id": "8244c0b1-fc04-4769-b71d-7a5a87ccc880",
   "metadata": {},
   "outputs": [],
   "source": [
    "from langchain.chains import create_retrieval_chain\n",
    "from langchain.chains.combine_documents import create_stuff_documents_chain\n",
    "from langchain_core.prompts import ChatPromptTemplate\n",
    "\n",
    "system_prompt = (\n",
    "    \"You are a legal expert specializing in Indian criminal law.\" \n",
    "    \"Use the following pieces of retrieved context to answer the question\"\n",
    "    \"You have to identify the crime type, IPC sections, and legal outcome based on the description given to you along with court references if that particular crime has one.\"\n",
    "    \"If the given description is not a crime mention that it is not a crime and why it is not a crime\"\n",
    "    \"Use three sentences maximum and keep the answer concise.\"\n",
    "    \"\\n\\n\"\n",
    "    \"{context}\"\n",
    ")\n",
    "\n",
    "prompt = ChatPromptTemplate.from_messages(\n",
    "    [\n",
    "        (\"system\", system_prompt),\n",
    "        (\"human\", \"{input}\"),\n",
    "    ]\n",
    ")"
   ]
  },
  {
   "cell_type": "code",
   "execution_count": 13,
   "id": "3f188323-f247-4da6-b995-ab3358d2caf7",
   "metadata": {},
   "outputs": [],
   "source": [
    "question_answer_chain = create_stuff_documents_chain(llm, prompt)\n",
    "rag_chain = create_retrieval_chain(retriever, question_answer_chain)"
   ]
  },
  {
   "cell_type": "code",
   "execution_count": 15,
   "id": "ff14b649-7f02-4ef0-a1e2-a1b3abf4c198",
   "metadata": {},
   "outputs": [
    {
     "name": "stdout",
     "output_type": "stream",
     "text": [
      "This is housebreaking and theft.  Relevant IPC sections are 445 (house-breaking) and 379 (theft).  Punishment depends on the value of stolen property and other factors but can include imprisonment and fines.\n",
      "\n"
     ]
    }
   ],
   "source": [
    "response = rag_chain.invoke({\"input\": \"Someone broke into my house and stole my properties\"})\n",
    "print(response[\"answer\"])"
   ]
  },
  {
   "cell_type": "code",
   "execution_count": null,
   "id": "a9d0687e-0f6e-438d-b91c-78c7942f7008",
   "metadata": {},
   "outputs": [],
   "source": []
  }
 ],
 "metadata": {
  "kernelspec": {
   "display_name": "Python 3.11.5 (cr)",
   "language": "python",
   "name": "cr"
  },
  "language_info": {
   "codemirror_mode": {
    "name": "ipython",
    "version": 3
   },
   "file_extension": ".py",
   "mimetype": "text/x-python",
   "name": "python",
   "nbconvert_exporter": "python",
   "pygments_lexer": "ipython3",
   "version": "3.11.5"
  }
 },
 "nbformat": 4,
 "nbformat_minor": 5
}
